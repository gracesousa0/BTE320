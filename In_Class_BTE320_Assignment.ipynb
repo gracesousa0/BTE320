{
  "nbformat": 4,
  "nbformat_minor": 0,
  "metadata": {
    "colab": {
      "provenance": [],
      "authorship_tag": "ABX9TyN2tq1FYNpOu3eTougdASBF",
      "include_colab_link": true
    },
    "kernelspec": {
      "name": "python3",
      "display_name": "Python 3"
    },
    "language_info": {
      "name": "python"
    }
  },
  "cells": [
    {
      "cell_type": "markdown",
      "metadata": {
        "id": "view-in-github",
        "colab_type": "text"
      },
      "source": [
        "<a href=\"https://colab.research.google.com/github/gracesousa0/BTE320/blob/main/In_Class_BTE320_Assignment.ipynb\" target=\"_parent\"><img src=\"https://colab.research.google.com/assets/colab-badge.svg\" alt=\"Open In Colab\"/></a>"
      ]
    },
    {
      "cell_type": "code",
      "execution_count": null,
      "metadata": {
        "colab": {
          "base_uri": "https://localhost:8080/"
        },
        "id": "GBn17xpbymlC",
        "outputId": "5e8d7ded-76d5-4ec3-8cc0-523ed1d2b0e5"
      },
      "outputs": [
        {
          "output_type": "stream",
          "name": "stdout",
          "text": [
            "244.92000000000002\n"
          ]
        }
      ],
      "source": [
        "# Shape Area Calculator\n",
        "\n",
        "r = 3\n",
        "pi = 3.14\n",
        "h= 10\n",
        "\n",
        "area = (2 * pi * r ** 2) + (2 * pi * r * h)\n",
        "\n",
        "print(area)"
      ]
    },
    {
      "cell_type": "code",
      "source": [
        "# create a calculator in class assignment\n",
        "\n",
        "import random\n",
        "\n",
        "input1 = float(input(\"Enter an integer:\"))\n",
        "input2 = float(input(\"Enter an integer:\"))\n",
        "symbol = input(\"Choose operation:\")\n",
        "\n",
        "if symbol == \"*\":\n",
        "  calculation = input1 * input2\n",
        "  print(calculation)\n",
        "\n",
        "elif symbol == \"+\":\n",
        "  calculation = input1 + input2\n",
        "  print(calculation)\n",
        "\n",
        "elif symbol == \"-\":\n",
        "  calculation = input1 - input2\n",
        "  print(calculation)\n",
        "\n",
        "elif symbol == \"/\":\n",
        "  calculation = input1/input2\n",
        "  print(calculation)\n",
        "\n",
        "else:\n",
        "  calculation = input1 ** input2\n",
        "  print(calculation)"
      ],
      "metadata": {
        "id": "nzDvxkISCuK-",
        "colab": {
          "base_uri": "https://localhost:8080/"
        },
        "outputId": "93652c3a-2dbe-4691-cff6-86ea1a52f33f"
      },
      "execution_count": null,
      "outputs": [
        {
          "output_type": "stream",
          "name": "stdout",
          "text": [
            "Enter an integer:2\n",
            "Enter an integer:3\n",
            "Choose operation:**\n",
            "8.0\n"
          ]
        }
      ]
    },
    {
      "cell_type": "code",
      "source": [
        "# Rock Paper Scissors Game\n",
        "\n",
        "c = input('Do you want to play?')\n",
        "\n",
        "while c == 'yes':\n",
        "    p1 = input(\"Choose r, p, s:\")\n",
        "    p2 = input(\"Choose r, p, s:\")\n",
        "    if p1 == p2:\n",
        "        print('Draw')\n",
        "    elif (p1 == 'r' and p2 == 's') or (p1 == 's' and p2 == 'p') or (p1 == 'p' and p2 == 'r'):\n",
        "        print('P1 wins')\n",
        "    else:\n",
        "        print('P2 wins')\n",
        "    c = input('Do you want to play again?') # this will forever evaluate\n",
        "\n",
        "# while loops makes more sense, not sure how many iterations you wnat to do\n",
        "# main difference , for loop works for a cerian KNOWN bound iteration, while loop works for an unknown iteration\n",
        "\n",
        "\n",
        "\n",
        "\n",
        "\n"
      ],
      "metadata": {
        "colab": {
          "base_uri": "https://localhost:8080/"
        },
        "id": "4jaVH_3f9M85",
        "outputId": "33d3d67c-24d6-4efe-e04d-9d8c922f7d7c"
      },
      "execution_count": 1,
      "outputs": [
        {
          "name": "stdout",
          "output_type": "stream",
          "text": [
            "Do you want to play?yes\n",
            "Choose r, p, s:p\n",
            "Choose r, p, s:r\n",
            "P1 wins\n",
            "Do you want to play again?no\n"
          ]
        }
      ]
    },
    {
      "cell_type": "code",
      "source": [
        "# Parking Garage Problem\n",
        "flatRate = 5\n",
        "for t in range(1,9):\n",
        "  charge = flatRate + 2.5 * t\n",
        "  if charge < 10:\n",
        "    charge = 10\n",
        "  elif charge > 20:\n",
        "    charge = 20\n",
        "  print(t, charge)\n"
      ],
      "metadata": {
        "id": "GRqpCHGANvS1"
      },
      "execution_count": null,
      "outputs": []
    },
    {
      "cell_type": "code",
      "source": [
        "# Movie theater - Inital Problem\n",
        "\n",
        "ticket = 10\n",
        "ad_dollars = 200\n",
        "people = 20\n",
        "\n",
        "for i in range(0, 201, 25):\n",
        "  profit = ticket * round(people + 2 * round(i**0.5)) - (ad_dollars) - i\n",
        "  print(i, profit)\n",
        "\n",
        "\n",
        "\n"
      ],
      "metadata": {
        "colab": {
          "base_uri": "https://localhost:8080/"
        },
        "id": "UEuTOIsyMg-X",
        "outputId": "8a09ec6d-a99d-4cbc-b7cc-ea8ae76e72a3"
      },
      "execution_count": null,
      "outputs": [
        {
          "output_type": "stream",
          "name": "stdout",
          "text": [
            "0 0\n",
            "25 75\n",
            "50 90\n",
            "75 105\n",
            "100 100\n",
            "125 95\n",
            "150 90\n",
            "175 85\n",
            "200 80\n"
          ]
        }
      ]
    },
    {
      "cell_type": "code",
      "source": [
        "# Movie Theater (using while loop)\n",
        "from re import A\n",
        "ticketPrice = 10\n",
        "fixedCost = 200\n",
        "standardAttendees = 20\n",
        "\n",
        "ad = 0\n",
        "while ad < 201:\n",
        "  profit = 10 * (standardAttendees + 2 * round(ad ** 0.5)) - fixedCost - ad\n",
        "  print(ad, profit)\n",
        "  ad = ad + 25  #UPDATE MUST BE VERY LAST LINE"
      ],
      "metadata": {
        "id": "eQnYyzOcSPpe",
        "colab": {
          "base_uri": "https://localhost:8080/"
        },
        "outputId": "bb4565ff-c2d3-441a-aec4-3b1bf80a0fb5"
      },
      "execution_count": 2,
      "outputs": [
        {
          "output_type": "stream",
          "name": "stdout",
          "text": [
            "0 0\n",
            "25 75\n",
            "50 90\n",
            "75 105\n",
            "100 100\n",
            "125 95\n",
            "150 90\n",
            "175 85\n",
            "200 80\n"
          ]
        }
      ]
    },
    {
      "cell_type": "code",
      "source": [],
      "metadata": {
        "id": "5n3ysPU-Uz2X"
      },
      "execution_count": null,
      "outputs": []
    }
  ]
}