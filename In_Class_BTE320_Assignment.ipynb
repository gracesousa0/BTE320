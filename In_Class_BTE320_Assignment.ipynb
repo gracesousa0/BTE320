{
  "nbformat": 4,
  "nbformat_minor": 0,
  "metadata": {
    "colab": {
      "provenance": [],
      "authorship_tag": "ABX9TyNHAhRfQn7jfW3dC3PnRcZY",
      "include_colab_link": true
    },
    "kernelspec": {
      "name": "python3",
      "display_name": "Python 3"
    },
    "language_info": {
      "name": "python"
    }
  },
  "cells": [
    {
      "cell_type": "markdown",
      "metadata": {
        "id": "view-in-github",
        "colab_type": "text"
      },
      "source": [
        "<a href=\"https://colab.research.google.com/github/gracesousa0/BTE320/blob/main/In_Class_BTE320_Assignment.ipynb\" target=\"_parent\"><img src=\"https://colab.research.google.com/assets/colab-badge.svg\" alt=\"Open In Colab\"/></a>"
      ]
    },
    {
      "cell_type": "code",
      "execution_count": null,
      "metadata": {
        "colab": {
          "base_uri": "https://localhost:8080/"
        },
        "id": "GBn17xpbymlC",
        "outputId": "5e8d7ded-76d5-4ec3-8cc0-523ed1d2b0e5"
      },
      "outputs": [
        {
          "output_type": "stream",
          "name": "stdout",
          "text": [
            "244.92000000000002\n"
          ]
        }
      ],
      "source": [
        "# Shape Area Calculator\n",
        "\n",
        "r = 3\n",
        "pi = 3.14\n",
        "h= 10\n",
        "\n",
        "area = (2 * pi * r ** 2) + (2 * pi * r * h)\n",
        "\n",
        "print(area)"
      ]
    },
    {
      "cell_type": "code",
      "source": [
        "# Rock Paper Scissors Game\n",
        "\n",
        "c = input('Do you want to play?')\n",
        "\n",
        "while c == 'yes':\n",
        "    p1 = input(\"Choose r, p, s:\")\n",
        "    p2 = input(\"Choose r, p, s:\")\n",
        "    if p1 == p2:\n",
        "        print('Draw')\n",
        "    elif (p1 == 'r' and p2 == 's') or (p1 == 's' and p2 == 'p') or (p1 == 'p' and p2 == 'r'):\n",
        "        print('P1 wins')\n",
        "    else:\n",
        "        print('P2 wins')\n",
        "    c = input('Do you want to play again?') # this will forever evaluate\n",
        "\n",
        "# while loops makes more sense, not sure how many iterations you wnat to do\n",
        "# main difference , for loop works for a cerian KNOWN bound iteration, while loop works for an unknown iteration\n",
        "\n",
        "\n",
        "\n",
        "\n",
        "\n"
      ],
      "metadata": {
        "colab": {
          "base_uri": "https://localhost:8080/"
        },
        "id": "4jaVH_3f9M85",
        "outputId": "33d3d67c-24d6-4efe-e04d-9d8c922f7d7c"
      },
      "execution_count": null,
      "outputs": [
        {
          "name": "stdout",
          "output_type": "stream",
          "text": [
            "Do you want to play?yes\n",
            "Choose r, p, s:p\n",
            "Choose r, p, s:r\n",
            "P1 wins\n",
            "Do you want to play again?no\n"
          ]
        }
      ]
    },
    {
      "cell_type": "code",
      "source": [
        "# numerical calculator\n",
        "\n",
        "import random\n",
        "\n",
        "input1 = float(input(\"Enter an integer:\"))\n",
        "input2 = float(input(\"Enter an integer:\"))\n",
        "symbol = input(\"Choose operation:\")\n",
        "\n",
        "if symbol == \"*\":\n",
        "  calculation = input1 * input2\n",
        "  print(calculation)\n",
        "\n",
        "elif symbol == \"+\":\n",
        "  calculation = input1 + input2\n",
        "  print(calculation)\n",
        "\n",
        "elif symbol == \"-\":\n",
        "  calculation = input1 - input2\n",
        "  print(calculation)\n",
        "\n",
        "elif symbol == \"/\":\n",
        "  calculation = input1/input2\n",
        "  print(calculation)\n",
        "\n",
        "else:\n",
        "  calculation = input1 ** input2\n",
        "  print(calculation)"
      ],
      "metadata": {
        "id": "nzDvxkISCuK-",
        "colab": {
          "base_uri": "https://localhost:8080/"
        },
        "outputId": "93652c3a-2dbe-4691-cff6-86ea1a52f33f"
      },
      "execution_count": null,
      "outputs": [
        {
          "output_type": "stream",
          "name": "stdout",
          "text": [
            "Enter an integer:2\n",
            "Enter an integer:3\n",
            "Choose operation:**\n",
            "8.0\n"
          ]
        }
      ]
    },
    {
      "cell_type": "code",
      "source": [
        "# parking garage problem\n",
        "flatRate = 5\n",
        "for t in range(1,9):\n",
        "  charge = flatRate + 2.5 * t\n",
        "  if charge < 10:\n",
        "    charge = 10\n",
        "  elif charge > 20:\n",
        "    charge = 20\n",
        "  print(t, charge)\n"
      ],
      "metadata": {
        "id": "GRqpCHGANvS1",
        "colab": {
          "base_uri": "https://localhost:8080/"
        },
        "outputId": "05c6527f-92cb-4ebd-8ebf-2bb9d8137fc0"
      },
      "execution_count": 1,
      "outputs": [
        {
          "output_type": "stream",
          "name": "stdout",
          "text": [
            "1 10\n",
            "2 10.0\n",
            "3 12.5\n",
            "4 15.0\n",
            "5 17.5\n",
            "6 20.0\n",
            "7 20\n",
            "8 20\n"
          ]
        }
      ]
    },
    {
      "cell_type": "code",
      "source": [
        "# movie theater - inital problem\n",
        "\n",
        "ticket = 10\n",
        "ad_dollars = 200\n",
        "people = 20\n",
        "\n",
        "for i in range(0, 201, 25):\n",
        "  profit = ticket * round(people + 2 * round(i**0.5)) - (ad_dollars) - i\n",
        "  print(i, profit)\n",
        "\n",
        "\n",
        "\n"
      ],
      "metadata": {
        "colab": {
          "base_uri": "https://localhost:8080/"
        },
        "id": "UEuTOIsyMg-X",
        "outputId": "7e286b21-c400-40d9-c028-99da116cb0ed"
      },
      "execution_count": 2,
      "outputs": [
        {
          "output_type": "stream",
          "name": "stdout",
          "text": [
            "0 0\n",
            "25 75\n",
            "50 90\n",
            "75 105\n",
            "100 100\n",
            "125 95\n",
            "150 90\n",
            "175 85\n",
            "200 80\n"
          ]
        }
      ]
    },
    {
      "cell_type": "code",
      "source": [
        "# movie theater (using while loop)\n",
        "\n",
        "from re import A\n",
        "ticketPrice = 10\n",
        "fixedCost = 200\n",
        "standardAttendees = 20\n",
        "\n",
        "ad = 0\n",
        "while ad < 201:\n",
        "  profit = 10 * (standardAttendees + 2 * round(ad ** 0.5)) - fixedCost - ad\n",
        "  print(ad, profit)\n",
        "  ad = ad + 25"
      ],
      "metadata": {
        "id": "eQnYyzOcSPpe",
        "colab": {
          "base_uri": "https://localhost:8080/"
        },
        "outputId": "bb4565ff-c2d3-441a-aec4-3b1bf80a0fb5"
      },
      "execution_count": null,
      "outputs": [
        {
          "output_type": "stream",
          "name": "stdout",
          "text": [
            "0 0\n",
            "25 75\n",
            "50 90\n",
            "75 105\n",
            "100 100\n",
            "125 95\n",
            "150 90\n",
            "175 85\n",
            "200 80\n"
          ]
        }
      ]
    },
    {
      "cell_type": "code",
      "source": [
        "# create a list from scratch, ask user to provide number, add numbers to the list, and repeats until\n",
        "\n",
        "\n",
        "# input -- this number will be added to the list\n",
        "# loop this until 0\n",
        "\n",
        "l = []\n",
        "user_choice =int(input(\"What number would you like to add? Choose 0 to exit\"))\n",
        "\n",
        "while user_choice != 0:\n",
        "  l.append(user_choice)\n",
        "  print(l)\n",
        "\n",
        "  user_choice = str(input(\"Do you want to add another number?\"))\n",
        "  if user_choice == 'no':\n",
        "    break\n",
        "\n",
        "\n",
        "\n",
        "\n",
        "\n",
        "\n",
        "\n"
      ],
      "metadata": {
        "id": "5n3ysPU-Uz2X",
        "colab": {
          "base_uri": "https://localhost:8080/"
        },
        "outputId": "b714316c-5c93-4e51-e518-1062b3a1e674"
      },
      "execution_count": null,
      "outputs": [
        {
          "name": "stdout",
          "output_type": "stream",
          "text": [
            "What number would you like to add? Choose 0 to exit2\n",
            "[2]\n",
            "Do you want to add another number?yes\n",
            "[2, 'yes']\n",
            "Do you want to add another number?yes\n",
            "[2, 'yes', 'yes']\n",
            "Do you want to add another number?3\n",
            "[2, 'yes', 'yes', '3']\n",
            "Do you want to add another number?no\n"
          ]
        }
      ]
    },
    {
      "cell_type": "code",
      "source": [
        "\n",
        "l = []\n",
        "\n",
        "item = int(input(\"Give a value:\"))\n",
        "while item != 0:\n",
        "  l.append(item)\n",
        "  item = int(input(\"Give another value:\"))\n",
        "  print(l)\n",
        "\n"
      ],
      "metadata": {
        "colab": {
          "base_uri": "https://localhost:8080/"
        },
        "id": "HctT1xdwals8",
        "outputId": "d002d99b-8b28-45e3-ebf5-9d26ced253f0"
      },
      "execution_count": null,
      "outputs": [
        {
          "output_type": "stream",
          "name": "stdout",
          "text": [
            "Give a value:1\n",
            "Give another value:5\n",
            "[1]\n",
            "Give another value:9\n",
            "[1, 5]\n",
            "Give another value:0\n",
            "[1, 5, 9]\n"
          ]
        }
      ]
    },
    {
      "cell_type": "code",
      "source": [
        "# months2numbers\n",
        "\n",
        "months = {} #empty dictionary\n",
        "names = ['Jan', 'Feb', 'Mar', 'Apr', 'May', 'Jun', 'Jul',\n",
        "         'Aug', 'Sep', 'Oct', 'Nov', 'Dec']\n",
        "numbers = [1, 2, 3, 4, 5, 6, 7, 8, 9, 10, 11, 12]\n",
        "\n",
        "for i in range(12): # goes from 0 to 11\n",
        "  months[i+1] = names[i] # assign first items from names to numbers\n",
        "print(months)\n",
        "\n",
        "# have to think about how you can iterate over numbers and get expected output\n",
        "\n"
      ],
      "metadata": {
        "colab": {
          "base_uri": "https://localhost:8080/"
        },
        "id": "cOjVI-FSFa3c",
        "outputId": "a6afb875-c82f-4837-b366-617a24261c28"
      },
      "execution_count": null,
      "outputs": [
        {
          "output_type": "stream",
          "name": "stdout",
          "text": [
            "{1: 'Jan', 2: 'Feb', 3: 'Mar', 4: 'Apr', 5: 'May', 6: 'Jun', 7: 'Jul', 8: 'Aug', 9: 'Sep', 10: 'Oct', 11: 'Nov', 12: 'Dec'}\n"
          ]
        }
      ]
    },
    {
      "cell_type": "markdown",
      "source": [
        "October 22, 2024 -- functions continued"
      ],
      "metadata": {
        "id": "LTsnflwQHJpY"
      }
    },
    {
      "cell_type": "code",
      "source": [
        "# fee calcualtion and display functions\n",
        "\n",
        "def calcFee(hours): #ALWAYS PUT THE DEFINITION FIRST, THEN MAIN EXPRESSIONS\n",
        "  parkingFee = 5 + (2.5*hours)\n",
        "  return parkingFee\n",
        "\n",
        "hours = float(input(\"Enter hours parked:\"))\n",
        "calcFee(hours)"
      ],
      "metadata": {
        "id": "iODFkE3zHJZL",
        "colab": {
          "base_uri": "https://localhost:8080/"
        },
        "outputId": "ddf7844c-9806-4092-d0fc-408bbea3d5d6"
      },
      "execution_count": 3,
      "outputs": [
        {
          "name": "stdout",
          "output_type": "stream",
          "text": [
            "Enter hours parked:3\n"
          ]
        },
        {
          "output_type": "execute_result",
          "data": {
            "text/plain": [
              "12.5"
            ]
          },
          "metadata": {},
          "execution_count": 3
        }
      ]
    },
    {
      "cell_type": "code",
      "source": [
        "def calcFee(hours, decimals=2): # same thing just with display functions\n",
        "  parkingFee = 5 + (2.5*hours)\n",
        "  parkingFee = round(parkingFee, decimals)\n",
        "  return parkingFee\n",
        "\n",
        "def displayFee(parkingFee):\n",
        "  print(parkingFee)\n",
        "\n",
        "hours = float(input(\"Enter hours parked:\"))\n",
        "\n",
        "parkingFee = calcFee(hours)\n",
        "displayFee(parkingFee)\n"
      ],
      "metadata": {
        "id": "-b6fTrh0W-HB",
        "colab": {
          "base_uri": "https://localhost:8080/"
        },
        "outputId": "1cbd2210-78dc-4d83-b28e-fb77175f92de"
      },
      "execution_count": 4,
      "outputs": [
        {
          "output_type": "stream",
          "name": "stdout",
          "text": [
            "Enter hours parked:4\n",
            "15.0\n"
          ]
        }
      ]
    },
    {
      "cell_type": "markdown",
      "source": [
        "October 29 - Inclass assignment\n",
        "\n"
      ],
      "metadata": {
        "id": "Ue_XaFWwUla-"
      }
    },
    {
      "cell_type": "code",
      "source": [
        "# reverse function (recursion)\n",
        "\n",
        "def rev(s):\n",
        "  if len(s) == 1:\n",
        "    return s\n",
        "  else:\n",
        "    return s[-1] + rev(s[0:-1])\n",
        "\n",
        "rev('Hello')\n",
        "\n"
      ],
      "metadata": {
        "id": "0FK4NV5wU_Vd",
        "colab": {
          "base_uri": "https://localhost:8080/",
          "height": 35
        },
        "outputId": "5c7f8e33-4056-48a6-a766-7d65e1db20b6"
      },
      "execution_count": null,
      "outputs": [
        {
          "output_type": "execute_result",
          "data": {
            "text/plain": [
              "'olleH'"
            ],
            "application/vnd.google.colaboratory.intrinsic+json": {
              "type": "string"
            }
          },
          "metadata": {},
          "execution_count": 3
        }
      ]
    },
    {
      "cell_type": "code",
      "source": [
        "#student class\n",
        "\n",
        "class Student:\n",
        "  def __init__(self, name, number):\n",
        "    self.name = name\n",
        "    self.number = number\n",
        "  def describe(self):\n",
        "    print(f'Name: {self.name}, Number: {self.number}')\n",
        "\n",
        "s1 = Student(\"James Bond\", \"007\")\n",
        "s2 = Student(\"Clark Kent\", \"333\")\n",
        "\n",
        "s1.describe()\n",
        "s2.describe()"
      ],
      "metadata": {
        "colab": {
          "base_uri": "https://localhost:8080/"
        },
        "id": "vnCtSAGcnJKw",
        "outputId": "a29eda59-8e6a-426e-d1ce-ade423307918"
      },
      "execution_count": null,
      "outputs": [
        {
          "output_type": "stream",
          "name": "stdout",
          "text": [
            "Name: James Bond, Number: 007\n",
            "Name: Clark Kent, Number: 333\n"
          ]
        }
      ]
    },
    {
      "cell_type": "code",
      "source": [
        "class Student:\n",
        "  def __init__(self, name, number):\n",
        "    self.name = name\n",
        "    self.number = number\n",
        "    self.courses = []\n",
        "\n",
        "  def enroll(self, Course):\n",
        "    if Course not in self.courses:\n",
        "      self.courses.append(Course)\n",
        "    else:\n",
        "      print(f'You have already enrolled in {Course}.')\n",
        "\n",
        "  def get_courses(self):\n",
        "    return self.courses\n"
      ],
      "metadata": {
        "id": "vNTu3lcAqBI3"
      },
      "execution_count": 6,
      "outputs": []
    },
    {
      "cell_type": "code",
      "source": [
        "s = Student('Bob', '123')"
      ],
      "metadata": {
        "id": "PCoTWqUCBIVV"
      },
      "execution_count": 10,
      "outputs": []
    },
    {
      "cell_type": "code",
      "source": [
        "s.enroll('BTE23')"
      ],
      "metadata": {
        "id": "W_eWD9NoBI9t",
        "colab": {
          "base_uri": "https://localhost:8080/"
        },
        "outputId": "fc5aeaad-8f2a-4a0e-eff6-4a131aedf635"
      },
      "execution_count": 9,
      "outputs": [
        {
          "output_type": "stream",
          "name": "stdout",
          "text": [
            "You have already enrolled in BTE23.\n"
          ]
        }
      ]
    },
    {
      "cell_type": "markdown",
      "source": [
        "stuff to ask prof\n",
        "- why do i have those mini assignemnts? should they be included?\n",
        "- ask him to look over student class\n",
        "-"
      ],
      "metadata": {
        "id": "ReItbA2PuqWZ"
      }
    }
  ]
}