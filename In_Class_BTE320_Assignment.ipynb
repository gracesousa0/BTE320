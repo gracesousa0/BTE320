{
  "nbformat": 4,
  "nbformat_minor": 0,
  "metadata": {
    "colab": {
      "provenance": [],
      "authorship_tag": "ABX9TyPIxd9C/VllU3Iot9IgEtlU",
      "include_colab_link": true
    },
    "kernelspec": {
      "name": "python3",
      "display_name": "Python 3"
    },
    "language_info": {
      "name": "python"
    }
  },
  "cells": [
    {
      "cell_type": "markdown",
      "metadata": {
        "id": "view-in-github",
        "colab_type": "text"
      },
      "source": [
        "<a href=\"https://colab.research.google.com/github/gracesousa0/BTE320/blob/main/In_Class_BTE320_Assignment.ipynb\" target=\"_parent\"><img src=\"https://colab.research.google.com/assets/colab-badge.svg\" alt=\"Open In Colab\"/></a>"
      ]
    },
    {
      "cell_type": "code",
      "execution_count": null,
      "metadata": {
        "colab": {
          "base_uri": "https://localhost:8080/"
        },
        "id": "GBn17xpbymlC",
        "outputId": "5e8d7ded-76d5-4ec3-8cc0-523ed1d2b0e5"
      },
      "outputs": [
        {
          "output_type": "stream",
          "name": "stdout",
          "text": [
            "244.92000000000002\n"
          ]
        }
      ],
      "source": [
        "r = 3\n",
        "pi = 3.14\n",
        "h= 10\n",
        "\n",
        "area = (2 * pi * r ** 2) + (2 * pi * r * h)\n",
        "\n",
        "print(area)"
      ]
    },
    {
      "cell_type": "code",
      "source": [
        "player_one = str(input(\"Please chose rock, paper or scissors:\"))\n",
        "player_two =\n",
        "  if player_one == \"rock\" and player_two == \"scissors\":\n",
        "    print(\"Player one is the winner\")\n",
        "  elif player_one == \"scissors\" and player_two == \"rock\":\n",
        "    print(\"Player two is the winner\")\n",
        "  elif player_one == \"\"\n",
        "\n",
        "player_two = str(input(\"P\"))\n",
        "\n",
        "\n",
        "if com"
      ],
      "metadata": {
        "id": "vHSv4GbDSJ5F"
      },
      "execution_count": null,
      "outputs": []
    },
    {
      "cell_type": "code",
      "source": [
        "# create a calculator in class assignment\n",
        "\n",
        "import random\n",
        "\n",
        "input1 = float(input(\"enter an integer\"))\n",
        "input2 = float(input(\"enter an integer\"))\n",
        "symbol = input(\"Choose operation\")\n",
        "\n",
        "if symbol == \"*\":\n",
        "  calculation = input1 * input2\n",
        "  print(calculation)\n",
        "\n",
        "elif symbol == \"+\":\n",
        "  calculation = input1 + input2\n",
        "  print(calculation)\n",
        "\n",
        "elif symbol == \"-\":\n",
        "  calculation = input1 - input2\n",
        "  print(calculation)\n",
        "\n",
        "elif symbol == \"/\":\n",
        "  calculation = input1/input2\n",
        "  print(calculation)\n",
        "\n",
        "else:\n",
        "  calculation = input1 ** input2\n",
        "  print(calculation)"
      ],
      "metadata": {
        "id": "nzDvxkISCuK-"
      },
      "execution_count": null,
      "outputs": []
    }
  ]
}