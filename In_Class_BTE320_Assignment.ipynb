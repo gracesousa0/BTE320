{
  "nbformat": 4,
  "nbformat_minor": 0,
  "metadata": {
    "colab": {
      "provenance": [],
      "authorship_tag": "ABX9TyPW1PZBqePBSTITU/Gxxu/M",
      "include_colab_link": true
    },
    "kernelspec": {
      "name": "python3",
      "display_name": "Python 3"
    },
    "language_info": {
      "name": "python"
    }
  },
  "cells": [
    {
      "cell_type": "markdown",
      "metadata": {
        "id": "view-in-github",
        "colab_type": "text"
      },
      "source": [
        "<a href=\"https://colab.research.google.com/github/gracesousa0/BTE320/blob/main/In_Class_BTE320_Assignment.ipynb\" target=\"_parent\"><img src=\"https://colab.research.google.com/assets/colab-badge.svg\" alt=\"Open In Colab\"/></a>"
      ]
    },
    {
      "cell_type": "code",
      "execution_count": null,
      "metadata": {
        "colab": {
          "base_uri": "https://localhost:8080/"
        },
        "id": "GBn17xpbymlC",
        "outputId": "5e8d7ded-76d5-4ec3-8cc0-523ed1d2b0e5"
      },
      "outputs": [
        {
          "output_type": "stream",
          "name": "stdout",
          "text": [
            "244.92000000000002\n"
          ]
        }
      ],
      "source": [
        "# Shape Area Calculator\n",
        "\n",
        "r = 3\n",
        "pi = 3.14\n",
        "h= 10\n",
        "\n",
        "area = (2 * pi * r ** 2) + (2 * pi * r * h)\n",
        "\n",
        "print(area)"
      ]
    },
    {
      "cell_type": "code",
      "source": [
        "# create a calculator in class assignment\n",
        "\n",
        "import random\n",
        "\n",
        "input1 = float(input(\"Enter an integer:\"))\n",
        "input2 = float(input(\"Enter an integer:\"))\n",
        "symbol = input(\"Choose operation:\")\n",
        "\n",
        "if symbol == \"*\":\n",
        "  calculation = input1 * input2\n",
        "  print(calculation)\n",
        "\n",
        "elif symbol == \"+\":\n",
        "  calculation = input1 + input2\n",
        "  print(calculation)\n",
        "\n",
        "elif symbol == \"-\":\n",
        "  calculation = input1 - input2\n",
        "  print(calculation)\n",
        "\n",
        "elif symbol == \"/\":\n",
        "  calculation = input1/input2\n",
        "  print(calculation)\n",
        "\n",
        "else:\n",
        "  calculation = input1 ** input2\n",
        "  print(calculation)"
      ],
      "metadata": {
        "id": "nzDvxkISCuK-",
        "colab": {
          "base_uri": "https://localhost:8080/"
        },
        "outputId": "93652c3a-2dbe-4691-cff6-86ea1a52f33f"
      },
      "execution_count": null,
      "outputs": [
        {
          "output_type": "stream",
          "name": "stdout",
          "text": [
            "Enter an integer:2\n",
            "Enter an integer:3\n",
            "Choose operation:**\n",
            "8.0\n"
          ]
        }
      ]
    },
    {
      "cell_type": "code",
      "source": [
        "# Rock Paper Scissors Game\n",
        "\n",
        "c = input('Do you want to play?')\n",
        "\n",
        "while c == 'yes':\n",
        "    p1 = input(\"Choose r, p, s:\")\n",
        "    p2 = input(\"Choose r, p, s:\")\n",
        "    if p1 == p2:\n",
        "        print('Draw')\n",
        "    elif (p1 == 'r' and p2 == 's') or (p1 == 's' and p2 == 'p') or (p1 == 'p' and p2 == 'r'):\n",
        "        print('P1 wins')\n",
        "    else:\n",
        "        print('P2 wins')\n",
        "    c = input('Do you want to play again?') # this will forever evaluate\n",
        "\n",
        "# while loops makes more sense, not sure how many iterations you wnat to do\n",
        "# main difference , for loop works for a cerian KNOWN bound iteration, while loop works for an unknown iteration\n",
        "\n",
        "\n",
        "\n",
        "\n",
        "\n"
      ],
      "metadata": {
        "colab": {
          "base_uri": "https://localhost:8080/"
        },
        "id": "4jaVH_3f9M85",
        "outputId": "33d3d67c-24d6-4efe-e04d-9d8c922f7d7c"
      },
      "execution_count": null,
      "outputs": [
        {
          "name": "stdout",
          "output_type": "stream",
          "text": [
            "Do you want to play?yes\n",
            "Choose r, p, s:p\n",
            "Choose r, p, s:r\n",
            "P1 wins\n",
            "Do you want to play again?no\n"
          ]
        }
      ]
    },
    {
      "cell_type": "code",
      "source": [
        "# Parking Garage Problem\n",
        "flatRate = 5\n",
        "for t in range(1,9):\n",
        "  charge = flatRate + 2.5 * t\n",
        "  if charge < 10:\n",
        "    charge = 10\n",
        "  elif charge > 20:\n",
        "    charge = 20\n",
        "  print(t, charge)\n"
      ],
      "metadata": {
        "id": "GRqpCHGANvS1"
      },
      "execution_count": null,
      "outputs": []
    },
    {
      "cell_type": "code",
      "source": [
        "# Movie theater - Inital Problem\n",
        "\n",
        "ticket = 10\n",
        "ad_dollars = 200\n",
        "people = 20\n",
        "\n",
        "for i in range(0, 201, 25):\n",
        "  profit = ticket * round(people + 2 * round(i**0.5)) - (ad_dollars) - i\n",
        "  print(i, profit)\n",
        "\n",
        "\n",
        "\n"
      ],
      "metadata": {
        "colab": {
          "base_uri": "https://localhost:8080/"
        },
        "id": "UEuTOIsyMg-X",
        "outputId": "8a09ec6d-a99d-4cbc-b7cc-ea8ae76e72a3"
      },
      "execution_count": null,
      "outputs": [
        {
          "output_type": "stream",
          "name": "stdout",
          "text": [
            "0 0\n",
            "25 75\n",
            "50 90\n",
            "75 105\n",
            "100 100\n",
            "125 95\n",
            "150 90\n",
            "175 85\n",
            "200 80\n"
          ]
        }
      ]
    },
    {
      "cell_type": "code",
      "source": [
        "# Movie Theater (using while loop)\n",
        "from re import A\n",
        "ticketPrice = 10\n",
        "fixedCost = 200\n",
        "standardAttendees = 20\n",
        "\n",
        "ad = 0\n",
        "while ad < 201:\n",
        "  profit = 10 * (standardAttendees + 2 * round(ad ** 0.5)) - fixedCost - ad\n",
        "  print(ad, profit)\n",
        "  ad = ad + 25  #UPDATE MUST BE VERY LAST LINE"
      ],
      "metadata": {
        "id": "eQnYyzOcSPpe",
        "colab": {
          "base_uri": "https://localhost:8080/"
        },
        "outputId": "bb4565ff-c2d3-441a-aec4-3b1bf80a0fb5"
      },
      "execution_count": null,
      "outputs": [
        {
          "output_type": "stream",
          "name": "stdout",
          "text": [
            "0 0\n",
            "25 75\n",
            "50 90\n",
            "75 105\n",
            "100 100\n",
            "125 95\n",
            "150 90\n",
            "175 85\n",
            "200 80\n"
          ]
        }
      ]
    },
    {
      "cell_type": "code",
      "source": [
        "# create a list from scratch, ask user to provide number, add numbers to the list, and repeats until\n",
        "\n",
        "\n",
        "# input -- this number will be added to the list\n",
        "# loop this until 0\n",
        "\n",
        "l = []\n",
        "user_choice =int(input(\"What number would you like to add? Choose 0 to exit\"))\n",
        "\n",
        "while user_choice != 0:\n",
        "  l.append(user_choice)\n",
        "  print(l)\n",
        "\n",
        "  user_choice = str(input(\"Do you want to add another number?\"))\n",
        "  if user_choice == 'no':\n",
        "    break\n",
        "\n",
        "\n",
        "\n",
        "\n",
        "\n",
        "\n",
        "\n"
      ],
      "metadata": {
        "id": "5n3ysPU-Uz2X",
        "colab": {
          "base_uri": "https://localhost:8080/",
          "height": 400
        },
        "outputId": "b7f21e10-5301-444c-b19b-0e886a3f9316"
      },
      "execution_count": null,
      "outputs": [
        {
          "output_type": "stream",
          "name": "stdout",
          "text": [
            "What number would you like to add? Choose 0 to exit9\n",
            "[9]\n"
          ]
        },
        {
          "output_type": "error",
          "ename": "KeyboardInterrupt",
          "evalue": "Interrupted by user",
          "traceback": [
            "\u001b[0;31m---------------------------------------------------------------------------\u001b[0m",
            "\u001b[0;31mKeyboardInterrupt\u001b[0m                         Traceback (most recent call last)",
            "\u001b[0;32m<ipython-input-7-26b9b4aea094>\u001b[0m in \u001b[0;36m<cell line: 10>\u001b[0;34m()\u001b[0m\n\u001b[1;32m     12\u001b[0m   \u001b[0mprint\u001b[0m\u001b[0;34m(\u001b[0m\u001b[0ml\u001b[0m\u001b[0;34m)\u001b[0m\u001b[0;34m\u001b[0m\u001b[0;34m\u001b[0m\u001b[0m\n\u001b[1;32m     13\u001b[0m \u001b[0;34m\u001b[0m\u001b[0m\n\u001b[0;32m---> 14\u001b[0;31m   \u001b[0muser_choice\u001b[0m \u001b[0;34m=\u001b[0m \u001b[0mstr\u001b[0m\u001b[0;34m(\u001b[0m\u001b[0minput\u001b[0m\u001b[0;34m(\u001b[0m\u001b[0;34m\"Do you want to add another number?\"\u001b[0m\u001b[0;34m)\u001b[0m\u001b[0;34m)\u001b[0m\u001b[0;34m\u001b[0m\u001b[0;34m\u001b[0m\u001b[0m\n\u001b[0m\u001b[1;32m     15\u001b[0m   \u001b[0;32mif\u001b[0m \u001b[0muser_choice\u001b[0m \u001b[0;34m==\u001b[0m \u001b[0;34m'no'\u001b[0m\u001b[0;34m:\u001b[0m\u001b[0;34m\u001b[0m\u001b[0;34m\u001b[0m\u001b[0m\n\u001b[1;32m     16\u001b[0m     \u001b[0;32mbreak\u001b[0m\u001b[0;34m\u001b[0m\u001b[0;34m\u001b[0m\u001b[0m\n",
            "\u001b[0;32m/usr/local/lib/python3.10/dist-packages/ipykernel/kernelbase.py\u001b[0m in \u001b[0;36mraw_input\u001b[0;34m(self, prompt)\u001b[0m\n\u001b[1;32m    849\u001b[0m                 \u001b[0;34m\"raw_input was called, but this frontend does not support input requests.\"\u001b[0m\u001b[0;34m\u001b[0m\u001b[0;34m\u001b[0m\u001b[0m\n\u001b[1;32m    850\u001b[0m             )\n\u001b[0;32m--> 851\u001b[0;31m         return self._input_request(str(prompt),\n\u001b[0m\u001b[1;32m    852\u001b[0m             \u001b[0mself\u001b[0m\u001b[0;34m.\u001b[0m\u001b[0m_parent_ident\u001b[0m\u001b[0;34m,\u001b[0m\u001b[0;34m\u001b[0m\u001b[0;34m\u001b[0m\u001b[0m\n\u001b[1;32m    853\u001b[0m             \u001b[0mself\u001b[0m\u001b[0;34m.\u001b[0m\u001b[0m_parent_header\u001b[0m\u001b[0;34m,\u001b[0m\u001b[0;34m\u001b[0m\u001b[0;34m\u001b[0m\u001b[0m\n",
            "\u001b[0;32m/usr/local/lib/python3.10/dist-packages/ipykernel/kernelbase.py\u001b[0m in \u001b[0;36m_input_request\u001b[0;34m(self, prompt, ident, parent, password)\u001b[0m\n\u001b[1;32m    893\u001b[0m             \u001b[0;32mexcept\u001b[0m \u001b[0mKeyboardInterrupt\u001b[0m\u001b[0;34m:\u001b[0m\u001b[0;34m\u001b[0m\u001b[0;34m\u001b[0m\u001b[0m\n\u001b[1;32m    894\u001b[0m                 \u001b[0;31m# re-raise KeyboardInterrupt, to truncate traceback\u001b[0m\u001b[0;34m\u001b[0m\u001b[0;34m\u001b[0m\u001b[0m\n\u001b[0;32m--> 895\u001b[0;31m                 \u001b[0;32mraise\u001b[0m \u001b[0mKeyboardInterrupt\u001b[0m\u001b[0;34m(\u001b[0m\u001b[0;34m\"Interrupted by user\"\u001b[0m\u001b[0;34m)\u001b[0m \u001b[0;32mfrom\u001b[0m \u001b[0;32mNone\u001b[0m\u001b[0;34m\u001b[0m\u001b[0;34m\u001b[0m\u001b[0m\n\u001b[0m\u001b[1;32m    896\u001b[0m             \u001b[0;32mexcept\u001b[0m \u001b[0mException\u001b[0m \u001b[0;32mas\u001b[0m \u001b[0me\u001b[0m\u001b[0;34m:\u001b[0m\u001b[0;34m\u001b[0m\u001b[0;34m\u001b[0m\u001b[0m\n\u001b[1;32m    897\u001b[0m                 \u001b[0mself\u001b[0m\u001b[0;34m.\u001b[0m\u001b[0mlog\u001b[0m\u001b[0;34m.\u001b[0m\u001b[0mwarning\u001b[0m\u001b[0;34m(\u001b[0m\u001b[0;34m\"Invalid Message:\"\u001b[0m\u001b[0;34m,\u001b[0m \u001b[0mexc_info\u001b[0m\u001b[0;34m=\u001b[0m\u001b[0;32mTrue\u001b[0m\u001b[0;34m)\u001b[0m\u001b[0;34m\u001b[0m\u001b[0;34m\u001b[0m\u001b[0m\n",
            "\u001b[0;31mKeyboardInterrupt\u001b[0m: Interrupted by user"
          ]
        }
      ]
    },
    {
      "cell_type": "code",
      "source": [
        "\n",
        "l = []\n",
        "\n",
        "item = int(input(\"Give a value:\"))\n",
        "while item != 0:\n",
        "  l.append(item)\n",
        "  item = int(input(\"Give another value:\"))\n",
        "  print(l)\n",
        "\n"
      ],
      "metadata": {
        "colab": {
          "base_uri": "https://localhost:8080/"
        },
        "id": "HctT1xdwals8",
        "outputId": "d002d99b-8b28-45e3-ebf5-9d26ced253f0"
      },
      "execution_count": null,
      "outputs": [
        {
          "output_type": "stream",
          "name": "stdout",
          "text": [
            "Give a value:1\n",
            "Give another value:5\n",
            "[1]\n",
            "Give another value:9\n",
            "[1, 5]\n",
            "Give another value:0\n",
            "[1, 5, 9]\n"
          ]
        }
      ]
    },
    {
      "cell_type": "code",
      "source": [
        "months = {} #empty dictionary\n",
        "names = ['Jan', 'Feb', 'Mar', 'Apr', 'May', 'Jun', 'Jul',\n",
        "         'Aug', 'Sep', 'Oct', 'Nov', 'Dec']\n",
        "numbers = [1, 2, 3, 4, 5, 6, 7, 8, 9, 10, 11, 12]\n",
        "\n",
        "for i in range(12): # goes from 0 to 11\n",
        "  months[i+1] = names[i] # assign first items from names to numbers\n",
        "print(months)\n",
        "\n",
        "# have to think about how you can iterate over numbers and get expected output\n",
        "\n"
      ],
      "metadata": {
        "colab": {
          "base_uri": "https://localhost:8080/"
        },
        "id": "cOjVI-FSFa3c",
        "outputId": "a6afb875-c82f-4837-b366-617a24261c28"
      },
      "execution_count": null,
      "outputs": [
        {
          "output_type": "stream",
          "name": "stdout",
          "text": [
            "{1: 'Jan', 2: 'Feb', 3: 'Mar', 4: 'Apr', 5: 'May', 6: 'Jun', 7: 'Jul', 8: 'Aug', 9: 'Sep', 10: 'Oct', 11: 'Nov', 12: 'Dec'}\n"
          ]
        }
      ]
    },
    {
      "cell_type": "code",
      "source": [
        "# assignment 1: hosue hunting in class assignment\n",
        "\n",
        "\n",
        "\n",
        "annual_salary = float(input(\"Enter your annual salary:\")) # user inputs\n",
        "portion_saved = float(input(\"Eneter the portion of salary to be saved:\"))\n",
        "total_cost = float(input(\"Enter the cost of your dream home\"))\n",
        "\n",
        "#constants\n",
        "portion_down_payment = 0.25\n",
        "current_savings = 0\n",
        "months = 0\n",
        "r = 0.04\n",
        "\n",
        "down_payment = total_cost * portion_down_payment # calculate the required down payment\n",
        "monthly_salary = annual_salary / 12 # monthly salary\n",
        "\n",
        "while current_savings < down_payment: # calculate savings per month until reach down payment\n",
        "  current_savings += current_savings * (r / 12) # monthly return\n",
        "\n",
        "  current_savings += monthly_salary * portion_saved # monthly savings from salary\n",
        "\n",
        "  months += 1 # increment months\n",
        "\n",
        "print(f'Number of months: {months}') # output result\n"
      ],
      "metadata": {
        "id": "Z9ml-GbRfEFP"
      },
      "execution_count": null,
      "outputs": []
    },
    {
      "cell_type": "code",
      "source": [
        "# assignment 2: saving with raise\n",
        "\n",
        "portion_saved = float(input(\"Eneter the portion of salary to be saved:\"))\n",
        "total_cost = float(input(\"Enter the cost of your dream home:\"))\n",
        "semi_annual_raise = float(input(\"Enter the semi-annual raise, as a decimal:\"))\n",
        "\n",
        "#constants\n",
        "portion_down_payment = 0.25\n",
        "current_savings = 0\n",
        "months = 0\n",
        "r = 0.04\n",
        "\n",
        "down_payment = total_cost * portion_down_payment # calculate the required down payment\n",
        "monthly_salary = annual_salary / 12 # inital monthly salary\n",
        "\n",
        "while current_savings < down_payment:\n",
        "  months += 1 #loop over months\n",
        "\n",
        "  current_savings += current_savings * (r / 12) # add monthly return on current savings\n",
        "\n",
        "  current_savings += monthly_salary * portion_saved # add monthly savings from salary\n",
        "\n",
        "  if months % 6 == 0: # every six months, apply semi-annual raise\n",
        "    annual_salary += annual_salary * semi_annual_raise\n",
        "    monthly_salary = annual_salary / 12\n",
        "\n",
        "\n",
        "print(f'Number of months: {months}') # output result"
      ],
      "metadata": {
        "id": "62LHSNZufFlV"
      },
      "execution_count": null,
      "outputs": []
    }
  ]
}