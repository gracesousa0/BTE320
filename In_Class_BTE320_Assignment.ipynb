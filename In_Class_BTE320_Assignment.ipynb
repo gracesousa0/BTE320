{
  "nbformat": 4,
  "nbformat_minor": 0,
  "metadata": {
    "colab": {
      "provenance": [],
      "authorship_tag": "ABX9TyPRbbbguHrvqKUIkLswxlVu",
      "include_colab_link": true
    },
    "kernelspec": {
      "name": "python3",
      "display_name": "Python 3"
    },
    "language_info": {
      "name": "python"
    }
  },
  "cells": [
    {
      "cell_type": "markdown",
      "metadata": {
        "id": "view-in-github",
        "colab_type": "text"
      },
      "source": [
        "<a href=\"https://colab.research.google.com/github/gracesousa0/BTE320/blob/main/In_Class_BTE320_Assignment.ipynb\" target=\"_parent\"><img src=\"https://colab.research.google.com/assets/colab-badge.svg\" alt=\"Open In Colab\"/></a>"
      ]
    },
    {
      "cell_type": "code",
      "execution_count": null,
      "metadata": {
        "colab": {
          "base_uri": "https://localhost:8080/"
        },
        "id": "GBn17xpbymlC",
        "outputId": "5e8d7ded-76d5-4ec3-8cc0-523ed1d2b0e5"
      },
      "outputs": [
        {
          "output_type": "stream",
          "name": "stdout",
          "text": [
            "244.92000000000002\n"
          ]
        }
      ],
      "source": [
        "r = 3\n",
        "pi = 3.14\n",
        "h= 10\n",
        "\n",
        "area = (2 * pi * r ** 2) + (2 * pi * r * h)\n",
        "\n",
        "print(area)"
      ]
    },
    {
      "cell_type": "code",
      "source": [
        "import random\n",
        "p1 = input(\"Choose r, p, s\")\n",
        "p2 = input(\"Choose r, p, s\")\n",
        "\n",
        "random.choice(['r', 'p', 's'])\n",
        "\n",
        "if p1 == p2:\n",
        "  print('Draw')\n",
        "elif (p1 == 'r' and p2 == 's') or (p1 == 's' and p2 == 'p') or (p1 == 'p' and p2 == 'r'):\n",
        "   print('P1 wins')\n",
        "else:\n",
        "  print('P2 wins')"
      ],
      "metadata": {
        "id": "vHSv4GbDSJ5F",
        "colab": {
          "base_uri": "https://localhost:8080/"
        },
        "outputId": "d33a1b92-ce3c-4124-9d6d-2f832c2ebd45"
      },
      "execution_count": 5,
      "outputs": [
        {
          "output_type": "stream",
          "name": "stdout",
          "text": [
            "Choose r, p, sp\n",
            "Choose r, p, ss\n",
            "P2 wins\n"
          ]
        }
      ]
    },
    {
      "cell_type": "code",
      "source": [
        "# create a calculator in class assignment\n",
        "\n",
        "import random\n",
        "\n",
        "input1 = float(input(\"Enter an integer:\"))\n",
        "input2 = float(input(\"Enter an integer:\"))\n",
        "symbol = input(\"Choose operation:\")\n",
        "\n",
        "if symbol == \"*\":\n",
        "  calculation = input1 * input2\n",
        "  print(calculation)\n",
        "\n",
        "elif symbol == \"+\":\n",
        "  calculation = input1 + input2\n",
        "  print(calculation)\n",
        "\n",
        "elif symbol == \"-\":\n",
        "  calculation = input1 - input2\n",
        "  print(calculation)\n",
        "\n",
        "elif symbol == \"/\":\n",
        "  calculation = input1/input2\n",
        "  print(calculation)\n",
        "\n",
        "else:\n",
        "  calculation = input1 ** input2\n",
        "  print(calculation)"
      ],
      "metadata": {
        "id": "nzDvxkISCuK-",
        "colab": {
          "base_uri": "https://localhost:8080/"
        },
        "outputId": "93652c3a-2dbe-4691-cff6-86ea1a52f33f"
      },
      "execution_count": 4,
      "outputs": [
        {
          "output_type": "stream",
          "name": "stdout",
          "text": [
            "Enter an integer:2\n",
            "Enter an integer:3\n",
            "Choose operation:**\n",
            "8.0\n"
          ]
        }
      ]
    }
  ]
}